{
  "nbformat": 4,
  "nbformat_minor": 0,
  "metadata": {
    "colab": {
      "provenance": [],
      "authorship_tag": "ABX9TyNkCBKHoVmXiYUygvqjSFdN",
      "include_colab_link": true
    },
    "kernelspec": {
      "name": "python3",
      "display_name": "Python 3"
    },
    "language_info": {
      "name": "python"
    }
  },
  "cells": [
    {
      "cell_type": "markdown",
      "metadata": {
        "id": "view-in-github",
        "colab_type": "text"
      },
      "source": [
        "<a href=\"https://colab.research.google.com/github/KaneRafaelCasa/CPE-21-A-PLD-1-1/blob/main/Python_as_Function.ipynb\" target=\"_parent\"><img src=\"https://colab.research.google.com/assets/colab-badge.svg\" alt=\"Open In Colab\"/></a>"
      ]
    },
    {
      "cell_type": "code",
      "source": [
        "#Function Calls\n",
        "\n",
        "abs(4.5)"
      ],
      "metadata": {
        "colab": {
          "base_uri": "https://localhost:8080/"
        },
        "id": "4Y3ZZmwujDdE",
        "outputId": "819c8df7-aaef-4677-b4ee-e6c64f65e40b"
      },
      "execution_count": 3,
      "outputs": [
        {
          "output_type": "execute_result",
          "data": {
            "text/plain": [
              "4.5"
            ]
          },
          "metadata": {},
          "execution_count": 3
        }
      ]
    },
    {
      "cell_type": "code",
      "source": [
        "#Function Calls other function\n",
        "\n",
        "pow(abs(-2),round(4.5))  #pow(2,4)"
      ],
      "metadata": {
        "colab": {
          "base_uri": "https://localhost:8080/"
        },
        "id": "wnYe827AjIp4",
        "outputId": "c6f32fd6-da45-4dcf-d9a8-3970bf95d22b"
      },
      "execution_count": 4,
      "outputs": [
        {
          "output_type": "execute_result",
          "data": {
            "text/plain": [
              "16"
            ]
          },
          "metadata": {},
          "execution_count": 4
        }
      ]
    },
    {
      "cell_type": "code",
      "source": [
        "#Type code function\n",
        "\n",
        "int(4.5)\n",
        "float(4)"
      ],
      "metadata": {
        "colab": {
          "base_uri": "https://localhost:8080/"
        },
        "id": "CsPrYHqojUtD",
        "outputId": "7761dd59-3290-4352-9361-cc792e009ed3"
      },
      "execution_count": 5,
      "outputs": [
        {
          "output_type": "execute_result",
          "data": {
            "text/plain": [
              "4.0"
            ]
          },
          "metadata": {},
          "execution_count": 5
        }
      ]
    },
    {
      "cell_type": "code",
      "source": [
        "#Defining own function\n",
        "\n",
        "def fahrenheit_to_celsius(f):\n",
        "  c = (f - 32) * 5/9\n",
        "  print(f\"{f}°F is equivalent to {c}°C.\")\n",
        "  \n",
        "# Get temperature in Fahrenheit from the user\n",
        "f = float(input(\"Enter temperature in Fahrenheit: \"))\n",
        "\n",
        "# Convert temperature to Celsius and print the result\n",
        "fahrenheit_to_celsius(f)\n",
        "\n",
        "\n",
        "\n",
        "\n",
        "\n",
        "\n",
        "\n",
        "\n",
        "\n",
        "\n"
      ],
      "metadata": {
        "colab": {
          "base_uri": "https://localhost:8080/"
        },
        "id": "VFiQe9NHj4_k",
        "outputId": "a6f87360-5335-4e13-a70d-fa1c12f33704"
      },
      "execution_count": 61,
      "outputs": [
        {
          "output_type": "stream",
          "name": "stdout",
          "text": [
            "Enter temperature in Fahrenheit: 86\n",
            "86.0°F is equivalent to 30.0°C.\n"
          ]
        }
      ]
    },
    {
      "cell_type": "code",
      "source": [
        "#Defining own function (Ma'am Sayo way)\n",
        "\n",
        "def convert_to_celsius(fahrenheit):\n",
        "  celsius = (fahrenheit-32)*5/9\n",
        "  return celsius\n",
        "\n",
        "fahrenheit = float(input(\"Enter a number in fahrenheit: \"))\n",
        "f=convert_to_celsius(fahrenheit)\n",
        "print(round(f,2))"
      ],
      "metadata": {
        "colab": {
          "base_uri": "https://localhost:8080/"
        },
        "id": "_qrclpYVsS7d",
        "outputId": "3995fd29-1d4a-461f-b7cc-e06f7d8a3695"
      },
      "execution_count": 70,
      "outputs": [
        {
          "output_type": "stream",
          "name": "stdout",
          "text": [
            "Enter a number in fahrenheit: 202\n",
            "94.44\n"
          ]
        }
      ]
    },
    {
      "cell_type": "code",
      "source": [
        "#Exercises\n",
        "\n",
        "\n",
        "min_value = min(2, 3, 4)\n",
        "print(min_value)\n",
        "\n",
        "\n",
        "max_value = max(2, -3, 4, 7, -5)\n",
        "print(max_value)\n",
        "\n",
        "\n",
        "max_value = max(2, -3, min(4,7), -5)\n",
        "print(max_value)\n"
      ],
      "metadata": {
        "colab": {
          "base_uri": "https://localhost:8080/"
        },
        "id": "0n56sH0ruCs0",
        "outputId": "b8172eac-76f3-4fae-a734-b1c381d6ec0c"
      },
      "execution_count": 74,
      "outputs": [
        {
          "output_type": "stream",
          "name": "stdout",
          "text": [
            "2\n",
            "7\n",
            "4\n"
          ]
        }
      ]
    }
  ]
}