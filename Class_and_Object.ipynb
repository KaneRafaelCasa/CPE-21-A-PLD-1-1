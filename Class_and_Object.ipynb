{
  "nbformat": 4,
  "nbformat_minor": 0,
  "metadata": {
    "colab": {
      "provenance": [],
      "authorship_tag": "ABX9TyOwXxSDyyioMJ0DYmrbGJvS",
      "include_colab_link": true
    },
    "kernelspec": {
      "name": "python3",
      "display_name": "Python 3"
    },
    "language_info": {
      "name": "python"
    }
  },
  "cells": [
    {
      "cell_type": "markdown",
      "metadata": {
        "id": "view-in-github",
        "colab_type": "text"
      },
      "source": [
        "<a href=\"https://colab.research.google.com/github/KaneRafaelCasa/CPE-21-A-PLD-1-1/blob/main/Class_and_Object.ipynb\" target=\"_parent\"><img src=\"https://colab.research.google.com/assets/colab-badge.svg\" alt=\"Open In Colab\"/></a>"
      ]
    },
    {
      "cell_type": "code",
      "execution_count": 10,
      "metadata": {
        "colab": {
          "base_uri": "https://localhost:8080/"
        },
        "id": "3JLXhAiRsB_X",
        "outputId": "39335c41-7e37-4c09-809c-866cc61535d9"
      },
      "outputs": [
        {
          "output_type": "stream",
          "name": "stdout",
          "text": [
            "The area of a rectangle is 50\n",
            "The perimeter of a rectangle is 30\n",
            "The area of a rectangle is 50\n",
            "The perimeter of a rectangle is 30\n",
            "50\n",
            "30\n",
            "50\n",
            "30\n"
          ]
        }
      ],
      "source": [
        "#Application\n",
        "# Write a python program that computes for the Area() and Perimeter () of a Rectangle with its attribution and attribute\n",
        "# Use the shape as a parent class\n",
        "# Use Area() and Perimeter () as methods with its attribution and attribute\n",
        "# Use Rectangle as child class\n",
        "\n",
        "class Shape:\n",
        "  def __init__(self,length,width):\n",
        "    self.length = length\n",
        "    self.width = width\n",
        "  def Area(self):\n",
        "    return self.length * self.width\n",
        "\n",
        "  def Perimeter(self):\n",
        "    return (self.length + self.width)*2\n",
        "  def display(self):\n",
        "    print(\"The area of a rectangle is\", self.Area())\n",
        "    print(\"The perimeter of a rectangle is\", self.Perimeter())\n",
        "\n",
        "class Rectangle(Shape):\n",
        "  pass\n",
        "\n",
        "rectangle = Shape(10,5)\n",
        "rectangle2 = Rectangle(10,5)\n",
        "\n",
        "rectangle.display()\n",
        "rectangle2.display()\n",
        "\n",
        "print(rectangle.Area())\n",
        "print(rectangle.Perimeter())\n",
        "\n",
        "print(rectangle2.Area())\n",
        "print(rectangle2.Perimeter())"
      ]
    },
    {
      "cell_type": "code",
      "source": [
        "class Car:\n",
        "        pass\n",
        "\n",
        "obj1 = Car()\n",
        "print(obj1)\n"
      ],
      "metadata": {
        "colab": {
          "base_uri": "https://localhost:8080/"
        },
        "id": "xSSHkMiIS8FF",
        "outputId": "0106d34e-2b93-4d54-cc19-8b55ddbea18e"
      },
      "execution_count": 37,
      "outputs": [
        {
          "output_type": "stream",
          "name": "stdout",
          "text": [
            "<__main__.Car object at 0x7f085d3f6040>\n"
          ]
        }
      ]
    },
    {
      "cell_type": "code",
      "source": [
        "class Car:\n",
        "    def __init__(self, name, color):\n",
        "        self.name = Sedan\n",
        "        self.color = blue\n"
      ],
      "metadata": {
        "id": "VQAVbuzUTRbm"
      },
      "execution_count": 11,
      "outputs": []
    },
    {
      "cell_type": "code",
      "source": [
        "class Car:   \n",
        "    car_type = \"Sedan\" \n",
        "\n",
        "    def __init__(self, name, mileage):\n",
        "        self.name = \"Sedan\", \n",
        "        self.mileage = 3\n",
        "\n",
        "    def description(self):                 \n",
        "        return \"The {} car gives the mileage of {}km/l\".format(self.name, self.mileage)\n",
        "\n",
        "    def max_speed(self, speed):\n",
        "        return \"The {} runs at the maximum speed of {}km/hr\".format(self.name, speed)\n",
        "\n",
        "obj2 = Car(\"Honda City\", 24.1)\n",
        "print(obj2.description())\n",
        "print(obj2.max_speed(150))\n",
        "\n"
      ],
      "metadata": {
        "colab": {
          "base_uri": "https://localhost:8080/"
        },
        "id": "Qm-wsN1KWDyz",
        "outputId": "7805bc0a-4713-4f06-a5ca-8d342f8d865b"
      },
      "execution_count": 22,
      "outputs": [
        {
          "output_type": "stream",
          "name": "stdout",
          "text": [
            "The ('Sedan',) car gives the mileage of 3km/l\n",
            "The ('Sedan',) runs at the maximum speed of 150km/hr\n"
          ]
        }
      ]
    },
    {
      "cell_type": "code",
      "source": [
        "class Car:          #parent class\n",
        "\n",
        "    def __init__(self, name, mileage):\n",
        "        self.name = name\n",
        "        self.mileage = mileage\n",
        "\n",
        "    def description(self):                \n",
        "        return \"The {} car gives the mileage of {}km/l\" .format(self.name, self.mileage)\n",
        "\n",
        "class BMW(Car):     #child class\n",
        "    pass\n",
        "\n",
        "class Audi(Car):     #child class\n",
        "    def audi_desc(self):\n",
        "        return \"This is the description method of class Audi.\"\n",
        "\n",
        "obj1 = BMW(\"BMW 7-series\",39.53)\n",
        "print(obj1.description())\n",
        "\n",
        "obj2 = Audi(\"Audi A8 L\",14)\n",
        "print(obj2.description())\n",
        "print(obj2.audi_desc())\n",
        "\n",
        "\n"
      ],
      "metadata": {
        "colab": {
          "base_uri": "https://localhost:8080/"
        },
        "id": "AYz89VFQXcj9",
        "outputId": "8c36564c-4048-4212-a17a-d7b4e1e8b850"
      },
      "execution_count": 25,
      "outputs": [
        {
          "output_type": "stream",
          "name": "stdout",
          "text": [
            "The BMW 7-series car gives the mileage of 39.53km/l\n",
            "The Audi A8 L car gives the mileage of 14km/l\n",
            "This is the description method of class Audi.\n"
          ]
        }
      ]
    },
    {
      "cell_type": "code",
      "source": [
        "def __init__(self, name, mileage):\n",
        "        self._name = name                #protected variable\n",
        "        self.mileage = mileage \n",
        "\n",
        "        def description(self):                \n",
        "          return \"The {self._name} car gives the mileage of {self.mileage}km/l\"\n",
        "\n",
        "obj = Car(\"BMW 7-series\",39.53)\n",
        "\n",
        "#accessing protected variable via class method \n",
        "print(obj.description())\n",
        "\n",
        "#accessing protected variable directly from outside\n",
        "print(obj.name)\n",
        "print(obj.mileage)\n"
      ],
      "metadata": {
        "colab": {
          "base_uri": "https://localhost:8080/"
        },
        "id": "68LhGQs3YCpq",
        "outputId": "a35a43eb-372c-4f18-8115-bdfcb8e307c2"
      },
      "execution_count": 33,
      "outputs": [
        {
          "output_type": "stream",
          "name": "stdout",
          "text": [
            "The BMW 7-series car gives the mileage of 39.53km/l\n",
            "BMW 7-series\n",
            "39.53\n"
          ]
        }
      ]
    }
  ]
}