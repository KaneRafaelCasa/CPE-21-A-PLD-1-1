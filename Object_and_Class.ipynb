{
  "nbformat": 4,
  "nbformat_minor": 0,
  "metadata": {
    "colab": {
      "provenance": [],
      "authorship_tag": "ABX9TyP420A5TwKIXNcFWW8jPrEF",
      "include_colab_link": true
    },
    "kernelspec": {
      "name": "python3",
      "display_name": "Python 3"
    },
    "language_info": {
      "name": "python"
    }
  },
  "cells": [
    {
      "cell_type": "markdown",
      "metadata": {
        "id": "view-in-github",
        "colab_type": "text"
      },
      "source": [
        "<a href=\"https://colab.research.google.com/github/KaneRafaelCasa/CPE-21-A-PLD-1-1/blob/main/Object_and_Class.ipynb\" target=\"_parent\"><img src=\"https://colab.research.google.com/assets/colab-badge.svg\" alt=\"Open In Colab\"/></a>"
      ]
    },
    {
      "cell_type": "code",
      "execution_count": 4,
      "metadata": {
        "colab": {
          "base_uri": "https://localhost:8080/"
        },
        "id": "ctXu2j-61Y62",
        "outputId": "638b9f4f-9b3d-489a-82d6-1ecffe058fd1"
      },
      "outputs": [
        {
          "output_type": "stream",
          "name": "stdout",
          "text": [
            "My name is Kane\n",
            "My age is 18\n",
            "Kyle\n",
            "20\n"
          ]
        }
      ],
      "source": [
        "#Creating class and object\n",
        "class Person:                                               #creating class names as Person\n",
        "  def __init__(self,name,age):          \n",
        "    self.name = name\n",
        "    self.age = age\n",
        "\n",
        "person = Person(\"Kane\",18)                                  #creating object name person\n",
        "print(\"My name is\", person.name)\n",
        "print(\"My age is\", person.age)\n",
        "\n",
        "class Student(Person):\n",
        "  pass\n",
        "\n",
        "person2 = Student(\"Kyle\", 20)\n",
        "print(person2.name)\n",
        "print(person2.age)"
      ]
    }
  ]
}