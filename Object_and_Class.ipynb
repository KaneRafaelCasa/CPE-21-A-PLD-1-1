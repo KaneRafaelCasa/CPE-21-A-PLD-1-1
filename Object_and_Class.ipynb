{
  "nbformat": 4,
  "nbformat_minor": 0,
  "metadata": {
    "colab": {
      "provenance": [],
      "authorship_tag": "ABX9TyPkq14wZ1ebwZ0ME+nk/CSI",
      "include_colab_link": true
    },
    "kernelspec": {
      "name": "python3",
      "display_name": "Python 3"
    },
    "language_info": {
      "name": "python"
    }
  },
  "cells": [
    {
      "cell_type": "markdown",
      "metadata": {
        "id": "view-in-github",
        "colab_type": "text"
      },
      "source": [
        "<a href=\"https://colab.research.google.com/github/KaneRafaelCasa/CPE-21-A-PLD-1-1/blob/main/Object_and_Class.ipynb\" target=\"_parent\"><img src=\"https://colab.research.google.com/assets/colab-badge.svg\" alt=\"Open In Colab\"/></a>"
      ]
    },
    {
      "cell_type": "code",
      "execution_count": 4,
      "metadata": {
        "colab": {
          "base_uri": "https://localhost:8080/"
        },
        "id": "ctXu2j-61Y62",
        "outputId": "638b9f4f-9b3d-489a-82d6-1ecffe058fd1"
      },
      "outputs": [
        {
          "output_type": "stream",
          "name": "stdout",
          "text": [
            "My name is Kane\n",
            "My age is 18\n",
            "Kyle\n",
            "20\n"
          ]
        }
      ],
      "source": [
        "#Creating class and object\n",
        "class Person:                                               #creating class names as Person\n",
        "  def __init__(self,name,age):          \n",
        "    self.name = name\n",
        "    self.age = age\n",
        "\n",
        "person = Person(\"Kane\",18)                                  #creating object name person\n",
        "print(\"My name is\", person.name)\n",
        "print(\"My age is\", person.age)\n",
        "\n",
        "class Student(Person):\n",
        "  pass\n",
        "\n",
        "person2 = Student(\"Kyle\", 20)\n",
        "print(person2.name)\n",
        "print(person2.age)"
      ]
    },
    {
      "cell_type": "code",
      "source": [
        "#Application 1\n",
        "\n",
        "#Use Shape as parent class name\n",
        "#Use Square as child class that inherits the attributes of the parent class\n",
        "#Use Area () and Perimeter () as methods to retrieve its values by assigning the instance of the object\n",
        "\n",
        "class Shape:\n",
        "    def __init__(self, sides):\n",
        "        self.sides = sides\n",
        "\n",
        "    def get_area(self):\n",
        "        pass\n",
        "    \n",
        "    def get_perimeter(self):\n",
        "        pass\n",
        "\n",
        "class Square(Shape):\n",
        "    def __init__(self, sides):\n",
        "        super().__init__(sides)\n",
        "\n",
        "    def get_area(self):\n",
        "        return self.sides**2\n",
        "    \n",
        "    def get_perimeter(self):\n",
        "        return self.sides*4\n",
        "\n",
        "\n",
        "square = Square(4)\n",
        "\n",
        "area = square.get_area()\n",
        "print(f\"The area of the square is {area}\")\n",
        "\n",
        "perimeter = square.get_perimeter()\n",
        "print(f\"The perimeter of the square is {perimeter}\")\n"
      ],
      "metadata": {
        "colab": {
          "base_uri": "https://localhost:8080/"
        },
        "id": "KBzVLHYf31eP",
        "outputId": "ece7f4a3-86cc-4070-fe72-3b59d4f517bd"
      },
      "execution_count": 9,
      "outputs": [
        {
          "output_type": "stream",
          "name": "stdout",
          "text": [
            "The area of the square is 16\n",
            "The perimeter of the square is 16\n"
          ]
        }
      ]
    }
  ]
}