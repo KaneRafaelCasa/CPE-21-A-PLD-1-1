{
  "nbformat": 4,
  "nbformat_minor": 0,
  "metadata": {
    "colab": {
      "provenance": [],
      "authorship_tag": "ABX9TyPJrZuFDXbK9QCmTNq96jXq",
      "include_colab_link": true
    },
    "kernelspec": {
      "name": "python3",
      "display_name": "Python 3"
    },
    "language_info": {
      "name": "python"
    }
  },
  "cells": [
    {
      "cell_type": "markdown",
      "metadata": {
        "id": "view-in-github",
        "colab_type": "text"
      },
      "source": [
        "<a href=\"https://colab.research.google.com/github/KaneRafaelCasa/CPE-21-A-PLD-1-1/blob/main/Introduction_to_Python.ipynb\" target=\"_parent\"><img src=\"https://colab.research.google.com/assets/colab-badge.svg\" alt=\"Open In Colab\"/></a>"
      ]
    },
    {
      "cell_type": "markdown",
      "source": [
        "#Indentation \n",
        "\n"
      ],
      "metadata": {
        "id": "L-oyqy8CO4P4"
      }
    },
    {
      "cell_type": "code",
      "source": [
        "if 5>3:\n",
        "  print(\"5 is greater than 3\")   #This is a comment"
      ],
      "metadata": {
        "colab": {
          "base_uri": "https://localhost:8080/"
        },
        "id": "iLzNB0-rPHtw",
        "outputId": "a3c0195f-9e54-4b70-c4e1-eff3edc0249d"
      },
      "execution_count": 3,
      "outputs": [
        {
          "output_type": "stream",
          "name": "stdout",
          "text": [
            "5 is greater than 3\n"
          ]
        }
      ]
    },
    {
      "cell_type": "markdown",
      "source": [
        "Variable Declaration"
      ],
      "metadata": {
        "id": "PWRzDcuaP3K3"
      }
    },
    {
      "cell_type": "code",
      "source": [
        "#variable with a single value\n",
        "\n",
        "x=5\n",
        "y=3\n",
        "if x<y:\n",
        "  print(\"x is greater than y\")\n",
        "else:\n",
        "  print(\"y is greater than x\")\n",
        "\n",
        "\n",
        "#variable with multiple values\n",
        "\n",
        "a,b = 1,2\n",
        "print(\"The value of a is:\",a)\n",
        "print(\"The value of b is:\",b)\n",
        "\n",
        "#multiple variable with a single value\n",
        "\n",
        "p = q = r = \"Rafael\"\n",
        "print(p)\n",
        "print(q)\n",
        "print(r)\n"
      ],
      "metadata": {
        "colab": {
          "base_uri": "https://localhost:8080/"
        },
        "id": "mDWQ6k5VP8FV",
        "outputId": "27d50fb7-0bce-471c-fd1f-e50013a21b74"
      },
      "execution_count": 18,
      "outputs": [
        {
          "output_type": "stream",
          "name": "stdout",
          "text": [
            "y is greater than x\n",
            "The value of a is: 1\n",
            "The value of b is: 2\n",
            "Rafael\n",
            "Rafael\n",
            "Rafael\n"
          ]
        }
      ]
    },
    {
      "cell_type": "markdown",
      "source": [
        "Output Variable"
      ],
      "metadata": {
        "id": "Hh0LHtrETmZt"
      }
    },
    {
      "cell_type": "code",
      "source": [
        "o = 'is fun'\n",
        "print(\"Python programming\"+\" \"+ o) # append is fun\n",
        "\n",
        "t = 'Python'\n",
        "z = t+o\n",
        "print(z)"
      ],
      "metadata": {
        "colab": {
          "base_uri": "https://localhost:8080/"
        },
        "id": "RC_Y80cgTqUq",
        "outputId": "2394e861-b242-46ea-e21c-5a7451880ab9"
      },
      "execution_count": 24,
      "outputs": [
        {
          "output_type": "stream",
          "name": "stdout",
          "text": [
            "Python programming is fun\n",
            "Pythonis fun\n"
          ]
        }
      ]
    },
    {
      "cell_type": "markdown",
      "source": [
        "#Casting and Type() function"
      ],
      "metadata": {
        "id": "oea9mBAIRqt2"
      }
    },
    {
      "cell_type": "code",
      "source": [
        "f = int(4) #integer\n",
        "g = float(4) #decimal/fractional\n",
        "\n",
        "print(f)\n",
        "print(g)\n",
        "\n",
        "print(type(f))\n",
        "print(type(g))"
      ],
      "metadata": {
        "colab": {
          "base_uri": "https://localhost:8080/"
        },
        "id": "nhh5Ij1PRvwc",
        "outputId": "6921c4b8-84ca-4e3e-ce7c-ae457dd74deb"
      },
      "execution_count": 14,
      "outputs": [
        {
          "output_type": "stream",
          "name": "stdout",
          "text": [
            "4\n",
            "4.0\n",
            "<class 'int'>\n",
            "<class 'float'>\n"
          ]
        }
      ]
    },
    {
      "cell_type": "markdown",
      "source": [
        "Double quote or Single quote"
      ],
      "metadata": {
        "id": "tyacllIsSIkV"
      }
    },
    {
      "cell_type": "code",
      "source": [
        "name = \"Kane\"\n",
        "name1 = 'Casa'\n",
        "\n",
        "print(name)\n",
        "print(name1)"
      ],
      "metadata": {
        "colab": {
          "base_uri": "https://localhost:8080/"
        },
        "id": "FsPbXARESNIn",
        "outputId": "ff82cc1f-b71d-41e8-8415-e1c31faa1ad1"
      },
      "execution_count": 15,
      "outputs": [
        {
          "output_type": "stream",
          "name": "stdout",
          "text": [
            "Kane\n",
            "Casa\n"
          ]
        }
      ]
    },
    {
      "cell_type": "markdown",
      "source": [
        "Case Sensitive"
      ],
      "metadata": {
        "id": "x6ZPV6EGSlED"
      }
    },
    {
      "cell_type": "code",
      "source": [
        "a = 'Ana'\n",
        "print(a)"
      ],
      "metadata": {
        "colab": {
          "base_uri": "https://localhost:8080/"
        },
        "id": "6Do-Ke6-SnBj",
        "outputId": "05e1ac9a-18e0-414a-b176-fe6c91393dde"
      },
      "execution_count": 16,
      "outputs": [
        {
          "output_type": "stream",
          "name": "stdout",
          "text": [
            "Ana\n"
          ]
        }
      ]
    }
  ]
}