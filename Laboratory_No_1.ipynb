{
  "nbformat": 4,
  "nbformat_minor": 0,
  "metadata": {
    "colab": {
      "provenance": [],
      "authorship_tag": "ABX9TyMnHtzN4KpPuUL2gb4G3ADC",
      "include_colab_link": true
    },
    "kernelspec": {
      "name": "python3",
      "display_name": "Python 3"
    },
    "language_info": {
      "name": "python"
    }
  },
  "cells": [
    {
      "cell_type": "markdown",
      "metadata": {
        "id": "view-in-github",
        "colab_type": "text"
      },
      "source": [
        "<a href=\"https://colab.research.google.com/github/KaneRafaelCasa/CPE-21-A-PLD-1-1/blob/main/Laboratory_No_1.ipynb\" target=\"_parent\"><img src=\"https://colab.research.google.com/assets/colab-badge.svg\" alt=\"Open In Colab\"/></a>"
      ]
    },
    {
      "cell_type": "code",
      "execution_count": 3,
      "metadata": {
        "colab": {
          "base_uri": "https://localhost:8080/"
        },
        "id": "ufQ8SJRmtkMX",
        "outputId": "9169163e-a5e7-489f-e0a7-129d551e77d6"
      },
      "outputs": [
        {
          "output_type": "stream",
          "name": "stdout",
          "text": [
            "Sum = 210\n",
            "Average= 10.5\n"
          ]
        }
      ],
      "source": [
        "#Lab Activity 1\n",
        "#Kane Rafael S. Casa BSCPE 1-1\n",
        "\n",
        "#Problem 1. Examine the flowchart below and create an appropriate python program that applies.\t(50 points)\n",
        "\n",
        "n = 20\n",
        "total_numbers = n\n",
        "sum = 0\n",
        "average = 0\n",
        "\n",
        "while n >= 0:\n",
        "  sum += n\n",
        "  n -= 1\n",
        "\n",
        "print('Sum =', sum)\n",
        "\n",
        "average = sum / total_numbers\n",
        "\n",
        "print('Average=', average)\n",
        "\n",
        "\n"
      ]
    },
    {
      "cell_type": "code",
      "source": [
        "#Problem 2. (50 points)\n",
        "#Kane Rafael S. Casa BSCPE 1-1\n",
        "\n",
        "#Write a Python to display your full name, student number, age, and course\n",
        "#Create a class named Student with attributes: Name, Student_No, Age, School, and Course\n",
        "#Create an object name Myself and assign an instance for each attribute.\n",
        "#Create a method Info() using an instantiation of a class.\n",
        "#Insert your GitHub link \"Laboratory No.1\" from your repository named \"CPEN21\"\n",
        "\n",
        "class Student:\n",
        "  def __init__(self, name, student_no, age, school, course):\n",
        "    self.name = name\n",
        "    self.student_no = student_no\n",
        "    self.age = age\n",
        "    self.school = school\n",
        "    self.course = course\n",
        "\n",
        "  def info(self):\n",
        "    print(\"Name:\", self.name)\n",
        "    print(\"Student Number:\", self.student_no)\n",
        "    print(\"Age:\", self.age)\n",
        "    print(\"School:\", self.school)\n",
        "    print(\"Course:\", self.course)\n",
        "\n",
        "myself = Student(\"Kane Rafael S. Casa\", 202202477, 18, \"Cavite State University Main-Indang\", \"Computer Engineering\")\n",
        "\n",
        "myself.info()\n",
        "\n",
        "\n",
        "\n"
      ],
      "metadata": {
        "colab": {
          "base_uri": "https://localhost:8080/"
        },
        "id": "aAOiPHnnuDGI",
        "outputId": "b1b98af4-d6dc-4c73-e5be-1929c1e00fee"
      },
      "execution_count": 9,
      "outputs": [
        {
          "output_type": "stream",
          "name": "stdout",
          "text": [
            "Name: Kane Rafael S. Casa\n",
            "Student Number: 202202477\n",
            "Age: 18\n",
            "School: Cavite State University Main-Indang\n",
            "Course: Computer Engineering\n"
          ]
        }
      ]
    }
  ]
}