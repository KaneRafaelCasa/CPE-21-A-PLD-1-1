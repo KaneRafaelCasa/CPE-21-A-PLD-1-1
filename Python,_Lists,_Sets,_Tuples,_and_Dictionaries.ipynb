{
  "nbformat": 4,
  "nbformat_minor": 0,
  "metadata": {
    "colab": {
      "provenance": [],
      "authorship_tag": "ABX9TyPaDNA28xsFXylZVbhJgmo7",
      "include_colab_link": true
    },
    "kernelspec": {
      "name": "python3",
      "display_name": "Python 3"
    },
    "language_info": {
      "name": "python"
    }
  },
  "cells": [
    {
      "cell_type": "markdown",
      "metadata": {
        "id": "view-in-github",
        "colab_type": "text"
      },
      "source": [
        "<a href=\"https://colab.research.google.com/github/KaneRafaelCasa/CPE-21-A-PLD-1-1/blob/main/Python%2C_Lists%2C_Sets%2C_Tuples%2C_and_Dictionaries.ipynb\" target=\"_parent\"><img src=\"https://colab.research.google.com/assets/colab-badge.svg\" alt=\"Open In Colab\"/></a>"
      ]
    },
    {
      "cell_type": "code",
      "execution_count": 3,
      "metadata": {
        "colab": {
          "base_uri": "https://localhost:8080/"
        },
        "id": "KfSDOxRf0rfU",
        "outputId": "ca34e705-6630-4131-a467-a6d2e2322e6e"
      },
      "outputs": [
        {
          "output_type": "stream",
          "name": "stdout",
          "text": [
            "1\n",
            "[1, 2, 'A', 'B', 'Hello', 'World']\n"
          ]
        }
      ],
      "source": [
        "#Lists\n",
        "\n",
        "pi = 3.14159\n",
        "varList = [1,2,'A','B', \"Hello\", pi]\n",
        "print(varList[0])\n",
        "\n",
        "varList.append(\"World\")\n",
        "len(varList)\n",
        "\n",
        "varList.remove(pi)\n",
        "print(varList)"
      ]
    },
    {
      "cell_type": "code",
      "source": [
        "#Python Dictionary\n",
        "\n",
        "thisdict = {\n",
        "           \"name\": \"Ana\",\n",
        "            \"age\": 25,\n",
        "            \"bday\": \"January 9, 2012\",\n",
        "            \"age\": 26\n",
        "}\n",
        "\n",
        "print(thisdict)\n",
        "    \n"
      ],
      "metadata": {
        "colab": {
          "base_uri": "https://localhost:8080/"
        },
        "id": "owG0YFVZ1pAN",
        "outputId": "0955cbc6-36d6-471c-e8c9-cc5925c154d6"
      },
      "execution_count": 11,
      "outputs": [
        {
          "output_type": "stream",
          "name": "stdout",
          "text": [
            "{'name': 'Ana', 'age': 26, 'bday': 'January 9, 2012'}\n"
          ]
        }
      ]
    },
    {
      "cell_type": "code",
      "source": [
        "varList = [0,1,2,3,4,]\n",
        "print(varList)                            #0\n",
        "varList = range(0,5,4)                   #0+4 = 4\n",
        "print([var for var in varList])          #4+4 = 4\n"
      ],
      "metadata": {
        "colab": {
          "base_uri": "https://localhost:8080/"
        },
        "id": "6RPpkPPU3LSX",
        "outputId": "3a79ec8f-d04e-4e7b-9588-33670c2629c6"
      },
      "execution_count": 16,
      "outputs": [
        {
          "output_type": "stream",
          "name": "stdout",
          "text": [
            "[0, 1, 2, 3, 4]\n",
            "[0, 4]\n"
          ]
        }
      ]
    },
    {
      "cell_type": "code",
      "source": [
        "#List Generators and Comprehension\n",
        "\n",
        "def gen_num_up_to(n):\n",
        "  num = 0\n",
        "  while num < n:\n",
        "    yield num\n",
        "    num += 1\n",
        "\n",
        "gen_num_up_to(5)\n",
        "\n",
        "varList = gen_num_up_to(5)\n",
        "print([var for var in varList])"
      ],
      "metadata": {
        "colab": {
          "base_uri": "https://localhost:8080/"
        },
        "id": "Z_vmbRofZeRm",
        "outputId": "1234c615-adf3-46aa-c11d-4fdc80c7544c"
      },
      "execution_count": 22,
      "outputs": [
        {
          "output_type": "stream",
          "name": "stdout",
          "text": [
            "[0, 1, 2, 3, 4]\n"
          ]
        }
      ]
    },
    {
      "cell_type": "code",
      "source": [
        "def gen_num_up_to(n):\n",
        "  num = 0\n",
        "  while num < n:\n",
        "    yield num\n",
        "    num += 2\n",
        "\n",
        "varList = gen_num_up_to(5)\n",
        "print([var for var in varList])\n",
        "\n",
        "varList = range(0, 5, 2)\n",
        "print([var for var in varList])"
      ],
      "metadata": {
        "colab": {
          "base_uri": "https://localhost:8080/"
        },
        "id": "bs5MlojxaAHs",
        "outputId": "02cfd070-c8cc-4068-8218-ad5e121d9058"
      },
      "execution_count": 24,
      "outputs": [
        {
          "output_type": "stream",
          "name": "stdout",
          "text": [
            "[0, 2, 4]\n",
            "[0, 2, 4]\n"
          ]
        }
      ]
    },
    {
      "cell_type": "code",
      "source": [
        "#Slice() Function\n",
        "\n",
        "varList = [1,2,3,4,5,6,7,8,9,10]\n",
        "print(varList[:5])\n",
        "\n",
        "print(varList[5:])      #list ( start :)\n",
        "\n",
        "print(varList[-2:])     #list ( start :)\n",
        "\n",
        "print(varList[:-2])     #list ( : end )\n",
        "\n",
        "print(varList[2:-2])    #list (start : end )\n",
        "\n",
        "print(varList[2:8:2])   #list (start : end : step )\n"
      ],
      "metadata": {
        "colab": {
          "base_uri": "https://localhost:8080/"
        },
        "id": "vZqDF3Yx4w-p",
        "outputId": "f3aece17-814e-48dd-b72f-3d6b4dac6409"
      },
      "execution_count": 26,
      "outputs": [
        {
          "output_type": "stream",
          "name": "stdout",
          "text": [
            "[1, 2, 3, 4, 5]\n",
            "[6, 7, 8, 9, 10]\n",
            "[9, 10]\n",
            "[1, 2, 3, 4, 5, 6, 7, 8]\n",
            "[3, 4, 5, 6, 7, 8]\n",
            "[3, 5, 7]\n"
          ]
        }
      ]
    }
  ]
}