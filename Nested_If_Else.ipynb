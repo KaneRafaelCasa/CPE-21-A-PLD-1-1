{
  "nbformat": 4,
  "nbformat_minor": 0,
  "metadata": {
    "colab": {
      "provenance": [],
      "authorship_tag": "ABX9TyOyJ1zBbFqY3+jYkWOuyXYD",
      "include_colab_link": true
    },
    "kernelspec": {
      "name": "python3",
      "display_name": "Python 3"
    },
    "language_info": {
      "name": "python"
    }
  },
  "cells": [
    {
      "cell_type": "markdown",
      "metadata": {
        "id": "view-in-github",
        "colab_type": "text"
      },
      "source": [
        "<a href=\"https://colab.research.google.com/github/KaneRafaelCasa/CPE-21-A-PLD-1-1/blob/main/Nested_If_Else.ipynb\" target=\"_parent\"><img src=\"https://colab.research.google.com/assets/colab-badge.svg\" alt=\"Open In Colab\"/></a>"
      ]
    },
    {
      "cell_type": "markdown",
      "source": [
        "Nested If Else"
      ],
      "metadata": {
        "id": "p4zEv9XwXeq6"
      }
    },
    {
      "cell_type": "code",
      "source": [
        "x = 41\n",
        "print(\"Enter a number:\")\n",
        "x = int(input())\n",
        "if x>10:\n",
        "  print(\"above ten\")\n",
        "  if x>20:\n",
        "    print(\"above twenty\")\n",
        "  else:\n",
        "    print(\"below twenty\") \n",
        "  if x>30:\n",
        "    print(\"above thirty\")\n",
        "  else:\n",
        "    print(\"below thirty\")\n",
        "  if x>40:\n",
        "    print(\"above forty\")\n",
        "  else:\n",
        "    print(\"below forty\")\n",
        "  if x>50:\n",
        "    print(\"above fifty\")\n",
        "  else:\n",
        "    print(\"below fifty\")\n"
      ],
      "metadata": {
        "colab": {
          "base_uri": "https://localhost:8080/"
        },
        "id": "Lnz0UuzGXId1",
        "outputId": "2909b844-351e-4e44-a8cd-ff821d5d8428"
      },
      "execution_count": 33,
      "outputs": [
        {
          "output_type": "stream",
          "name": "stdout",
          "text": [
            "Enter a number:\n",
            "50\n",
            "above ten\n",
            "above twenty\n",
            "above thirty\n",
            "above forty\n",
            "below fifty\n"
          ]
        }
      ]
    },
    {
      "cell_type": "code",
      "source": [
        "x = 41\n",
        "print(\"Enter a number:\")\n",
        "x = int(input())\n",
        "if x>10:\n",
        "  print(\"above 10\")\n",
        "  if x<20:\n",
        "    print(\"below 20\")\n",
        "  else:\n",
        "    print(\"above 20\")\n",
        "    if x<30:\n",
        "      print(\"below 30\")\n",
        "    else:\n",
        "      print(\"above 30\")\n",
        "      if x<40:\n",
        "        print(\"below 40\")\n",
        "      else:\n",
        "        print(\"above 40\")\n",
        "        if x<50:\n",
        "          print(\"below 50\")\n",
        "        else:\n",
        "          print(\"above 50\")\n"
      ],
      "metadata": {
        "colab": {
          "base_uri": "https://localhost:8080/"
        },
        "id": "IcBnGogCamZF",
        "outputId": "5268ae5e-bc95-4946-b036-1dda07a2c1c3"
      },
      "execution_count": 31,
      "outputs": [
        {
          "output_type": "stream",
          "name": "stdout",
          "text": [
            "Enter a number:\n",
            "41\n",
            "above 10\n",
            "above 20\n",
            "above 30\n",
            "above 40\n",
            "below 50\n"
          ]
        }
      ]
    },
    {
      "cell_type": "code",
      "execution_count": 4,
      "metadata": {
        "colab": {
          "base_uri": "https://localhost:8080/"
        },
        "id": "lfr0G34aUGfK",
        "outputId": "7c924e08-43ca-4602-8717-7df56adeb388"
      },
      "outputs": [
        {
          "output_type": "stream",
          "name": "stdout",
          "text": [
            "b is greater than a\n",
            "a and b are equal\n",
            "a is greater than b\n"
          ]
        }
      ],
      "source": [
        "a = 12\n",
        "b = 100\n",
        "if b > a:\n",
        "  print(\"b is greater than a\")\n",
        "\n",
        "a = 12\n",
        "b = 12\n",
        "if b > a:\n",
        "  print(\"b is greater than a\")\n",
        "elif a==b:\n",
        "  print(\"a and b are equal\")\n",
        "\n",
        "a = 200\n",
        "b = 33\n",
        "if b > a:\n",
        "  print(\"b is greater than a\")\n",
        "elif a==b:\n",
        "  print(\"a and b are equal\")\n",
        "else:\n",
        "  print(\"a is greater than b\")"
      ]
    }
  ]
}