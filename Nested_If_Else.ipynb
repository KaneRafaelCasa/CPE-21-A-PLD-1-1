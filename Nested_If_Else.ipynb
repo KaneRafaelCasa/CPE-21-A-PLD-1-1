{
  "nbformat": 4,
  "nbformat_minor": 0,
  "metadata": {
    "colab": {
      "provenance": [],
      "authorship_tag": "ABX9TyPW+tZ612BbnyEdCEL5WbLs",
      "include_colab_link": true
    },
    "kernelspec": {
      "name": "python3",
      "display_name": "Python 3"
    },
    "language_info": {
      "name": "python"
    }
  },
  "cells": [
    {
      "cell_type": "markdown",
      "metadata": {
        "id": "view-in-github",
        "colab_type": "text"
      },
      "source": [
        "<a href=\"https://colab.research.google.com/github/KaneRafaelCasa/CPE-21-A-PLD-1-1/blob/main/Nested_If_Else.ipynb\" target=\"_parent\"><img src=\"https://colab.research.google.com/assets/colab-badge.svg\" alt=\"Open In Colab\"/></a>"
      ]
    },
    {
      "cell_type": "code",
      "source": [
        "x = 41\n",
        "print(\"Enter a number:\")\n",
        "x = int(input())\n",
        "if x>10:\n",
        "  print(\"above 10\")\n",
        "  if x<20:\n",
        "    print(\"below 20\")\n",
        "  else:\n",
        "    print(\"above 20\")\n",
        "    if x<30:\n",
        "      print(\"below 30\")\n",
        "    else:\n",
        "      print(\"above 30\")\n",
        "      if x<40:\n",
        "        print(\"below 40\")\n",
        "      else:\n",
        "        print(\"above 40\")\n",
        "        if x<50:\n",
        "          print(\"below 50\")\n",
        "        else:\n",
        "          print(\"above 50\")\n"
      ],
      "metadata": {
        "colab": {
          "base_uri": "https://localhost:8080/"
        },
        "id": "IcBnGogCamZF",
        "outputId": "5268ae5e-bc95-4946-b036-1dda07a2c1c3"
      },
      "execution_count": null,
      "outputs": [
        {
          "output_type": "stream",
          "name": "stdout",
          "text": [
            "Enter a number:\n",
            "41\n",
            "above 10\n",
            "above 20\n",
            "above 30\n",
            "above 40\n",
            "below 50\n"
          ]
        }
      ]
    },
    {
      "cell_type": "markdown",
      "source": [
        "Nested If Else"
      ],
      "metadata": {
        "id": "p4zEv9XwXeq6"
      }
    },
    {
      "cell_type": "code",
      "source": [
        "x = 41\n",
        "print(\"Enter a number:\")\n",
        "x = int(input())\n",
        "if x>10:\n",
        "  print(\"above ten\")\n",
        "  if x>20:\n",
        "    print(\"above twenty\")\n",
        "  else:\n",
        "    print(\"below twenty\") \n",
        "  if x>30:\n",
        "    print(\"above thirty\")\n",
        "  else:\n",
        "    print(\"below thirty\")\n",
        "  if x>40:\n",
        "    print(\"above forty\")\n",
        "  else:\n",
        "    print(\"below forty\")\n",
        "  if x>50:\n",
        "    print(\"above fifty\")\n",
        "  else:\n",
        "    print(\"below fifty\")\n"
      ],
      "metadata": {
        "colab": {
          "base_uri": "https://localhost:8080/"
        },
        "id": "Lnz0UuzGXId1",
        "outputId": "2909b844-351e-4e44-a8cd-ff821d5d8428"
      },
      "execution_count": null,
      "outputs": [
        {
          "output_type": "stream",
          "name": "stdout",
          "text": [
            "Enter a number:\n",
            "50\n",
            "above ten\n",
            "above twenty\n",
            "above thirty\n",
            "above forty\n",
            "below fifty\n"
          ]
        }
      ]
    },
    {
      "cell_type": "markdown",
      "source": [
        "##Example 1"
      ],
      "metadata": {
        "id": "TTneAAKAfn_I"
      }
    },
    {
      "cell_type": "code",
      "execution_count": null,
      "metadata": {
        "colab": {
          "base_uri": "https://localhost:8080/"
        },
        "id": "4zVoeNjKemeP",
        "outputId": "13f0dd79-0caf-48a4-81cf-1d2b836db7d4"
      },
      "outputs": [
        {
          "output_type": "stream",
          "name": "stdout",
          "text": [
            "Enter your age: 55\n",
            "You are eligible to vote\n"
          ]
        }
      ],
      "source": [
        "age = int(input(\"Enter your age: \"))\n",
        "\n",
        "if age >18:\n",
        "  print(\"You are eligible to vote\")\n",
        "else:\n",
        "  print(\"You are not eligible to vote\")\n",
        "\n",
        "\n"
      ]
    },
    {
      "cell_type": "markdown",
      "source": [
        "##Example 2"
      ],
      "metadata": {
        "id": "M0PEtRyYfq6l"
      }
    },
    {
      "cell_type": "code",
      "source": [
        "num = float(input(\"Input a number: \"))\n",
        "\n",
        "if num > 0:\n",
        "   print(\"The value is positive\")\n",
        "elif num >= 0:\n",
        "   print(\"The value is positive.\")\n",
        "else:\n",
        "   print(\"The value is negative\")\n",
        "\n",
        "\n",
        "\n"
      ],
      "metadata": {
        "colab": {
          "base_uri": "https://localhost:8080/"
        },
        "id": "xy_sEg7NfsZa",
        "outputId": "e23f9fe8-e73c-4c21-e1d5-3af9f5998354"
      },
      "execution_count": null,
      "outputs": [
        {
          "output_type": "stream",
          "name": "stdout",
          "text": [
            "Input a number: 1\n",
            "The value is positive\n"
          ]
        }
      ]
    },
    {
      "cell_type": "markdown",
      "source": [
        "##Example 3\n"
      ],
      "metadata": {
        "id": "OXV0sQI2mAT-"
      }
    },
    {
      "cell_type": "code",
      "source": [
        "grade = float(input(\"Enter your grade: \"))\n",
        "\n",
        "if grade >= 75:\n",
        "   print(\"You Passed\")\n",
        "elif grade == 74:\n",
        "  print(\"You need Remedial\")\n",
        "else:\n",
        "  print(\"You Failed\")"
      ],
      "metadata": {
        "colab": {
          "base_uri": "https://localhost:8080/"
        },
        "id": "jB2MY7l8mBX_",
        "outputId": "94fa17b7-c731-4794-dd06-287fe4a71fd7"
      },
      "execution_count": null,
      "outputs": [
        {
          "output_type": "stream",
          "name": "stdout",
          "text": [
            "Enter your grade: 70\n",
            "You Failed\n"
          ]
        }
      ]
    }
  ]
}